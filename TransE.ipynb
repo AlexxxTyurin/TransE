{
  "nbformat": 4,
  "nbformat_minor": 0,
  "metadata": {
    "kernelspec": {
      "name": "python3",
      "display_name": "Python 3"
    },
    "language_info": {
      "codemirror_mode": {
        "name": "ipython",
        "version": 3
      },
      "file_extension": ".py",
      "mimetype": "text/x-python",
      "name": "python",
      "nbconvert_exporter": "python",
      "pygments_lexer": "ipython3",
      "version": "3.5.5"
    },
    "colab": {
      "name": "TransE.ipynb",
      "provenance": [],
      "collapsed_sections": []
    },
    "accelerator": "GPU"
  },
  "cells": [
    {
      "cell_type": "code",
      "metadata": {
        "id": "OI-_9pepE6_v",
        "colab_type": "code",
        "outputId": "5cca23c9-4271-412b-e606-96d95805538d",
        "colab": {
          "base_uri": "https://localhost:8080/",
          "height": 34
        }
      },
      "source": [
        "from google.colab import drive\n",
        "drive.mount('/content/drive/')"
      ],
      "execution_count": 1,
      "outputs": [
        {
          "output_type": "stream",
          "text": [
            "Drive already mounted at /content/drive/; to attempt to forcibly remount, call drive.mount(\"/content/drive/\", force_remount=True).\n"
          ],
          "name": "stdout"
        }
      ]
    },
    {
      "cell_type": "code",
      "metadata": {
        "id": "-MuUxgnHFbnF",
        "colab_type": "code",
        "outputId": "829bc2d2-0e38-4bff-caa1-270872be3fa3",
        "colab": {
          "base_uri": "https://localhost:8080/",
          "height": 63
        }
      },
      "source": [
        "import torch\n",
        "from torch.utils.data import DataLoader\n",
        "import os\n",
        "import tensorflow as tf\n",
        "import torch.nn as nn\n",
        "import numpy as np\n",
        "from dask import delayed\n",
        "from torch.autograd import Variable\n",
        "from os.path import join\n",
        "from scipy.spatial.distance import cosine"
      ],
      "execution_count": 2,
      "outputs": [
        {
          "output_type": "display_data",
          "data": {
            "text/html": [
              "<p style=\"color: red;\">\n",
              "The default version of TensorFlow in Colab will soon switch to TensorFlow 2.x.<br>\n",
              "We recommend you <a href=\"https://www.tensorflow.org/guide/migrate\" target=\"_blank\">upgrade</a> now \n",
              "or ensure your notebook will continue to use TensorFlow 1.x via the <code>%tensorflow_version 1.x</code> magic:\n",
              "<a href=\"https://colab.research.google.com/notebooks/tensorflow_version.ipynb\" target=\"_blank\">more info</a>.</p>\n"
            ],
            "text/plain": [
              "<IPython.core.display.HTML object>"
            ]
          },
          "metadata": {
            "tags": []
          }
        }
      ]
    },
    {
      "cell_type": "markdown",
      "metadata": {
        "id": "bp0wmljHEG0r",
        "colab_type": "text"
      },
      "source": [
        "Создаем класс нашего датасета. Реализуем в нем все необходимые нам методы\n"
      ]
    },
    {
      "cell_type": "code",
      "metadata": {
        "id": "toeDYm6lE6_1",
        "colab_type": "code",
        "colab": {}
      },
      "source": [
        "class WN18_train:\n",
        "    def __init__(self, file_path):\n",
        "        self.file_path = file_path\n",
        "        self.pos_triplets = None\n",
        "        self.num_ent = None\n",
        "        self.num_rel = None\n",
        "        self.neg_triplets = None\n",
        "\n",
        "        # These structures match head+rel with tail and tail+rel with head\n",
        "        self.head_rel_to_tail = {}\n",
        "        self.tail_rel_to_head = {}\n",
        "        \n",
        "    def download_triplets(self):\n",
        "        \"\"\"\n",
        "        This method reads triplets from the file and creates data structures which \n",
        "        will contribute to making negative samples \n",
        "        \"\"\"\n",
        "        t = []\n",
        "        \n",
        "        with open(self.file_path, 'r') as f:\n",
        "            data = f.readlines()\n",
        "            for el in data:\n",
        "                t.append(el.split())\n",
        "                head, rel, tail = [int(el) for el in el.split()]\n",
        "                \n",
        "                # Fill the heads, rels and tails into the dictionary of dictionaries head_rel_to_tail\n",
        "                if head not in self.head_rel_to_tail.keys():\n",
        "                    self.head_rel_to_tail[head] = {rel: [tail]}\n",
        "                else:\n",
        "                    if rel not in self.head_rel_to_tail[head].keys():\n",
        "                        self.head_rel_to_tail[head][rel] = [tail]\n",
        "                    else:\n",
        "                        self.head_rel_to_tail[head][rel].append(tail)\n",
        "                        \n",
        "                # Fill the tails, rels and heads into the dictionary of dictionaries tail_rel_to_head\n",
        "                if tail not in self.tail_rel_to_head.keys():\n",
        "                    self.tail_rel_to_head[tail] = {rel: [head]}\n",
        "                else:\n",
        "                    if rel not in self.tail_rel_to_head[tail]:\n",
        "                        self.tail_rel_to_head[tail][rel] = [head]\n",
        "                    else:\n",
        "                        self.tail_rel_to_head[tail][rel].append(head)\n",
        "                \n",
        "                \n",
        "        self.pos_triplets = np.array(t, dtype=np.int)\n",
        "        self.num_ent, self.num_rel = self.pos_triplets.max(axis=0)[:2] + 1\n",
        "        \n",
        "    def generate_neg_triplets(self):\n",
        "        \"\"\"\n",
        "        This method generates negative triplet for each posotive triplet. \n",
        "        In a negative triplet we just replace either tail or head with prob = 0.5 \n",
        "        \"\"\"\n",
        "        n = []\n",
        "\n",
        "        for i in range(self.pos_triplets.shape[0]):\n",
        "            head, rel, tail = self.pos_triplets[i, :]\n",
        "\n",
        "            # Choose what to replace: tail or head \n",
        "            if np.random.rand(1) > 0.5:\n",
        "                # Choose the index of head at random\n",
        "                neg_head = np.random.uniform(0, self.num_ent)\n",
        "                # If the random head occurs with the pair tail and rel, \n",
        "                # we choose the random index again\n",
        "                while neg_head in self.tail_rel_to_head[tail][rel] or neg_head == head:\n",
        "                    neg_head = np.random.uniform(0, self.num_ent)\n",
        "                head = neg_head\n",
        "            \n",
        "            else:\n",
        "                # Choose the index of tail at random\n",
        "                neg_tail = np.random.uniform(0, self.num_ent)\n",
        "                # If the random head occurs with the pair tail and rel, \n",
        "                # we choose the random index again\n",
        "                while neg_tail in self.head_rel_to_tail[head][rel] or neg_tail == tail:\n",
        "                    neg_tail = np.random.uniform(0, self.num_ent)\n",
        "                tail = neg_tail\n",
        "                \n",
        "            n.append([head, rel, tail])\n",
        "            \n",
        "        self.neg_triplets = np.array(n, dtype=np.int)\n",
        "                    \n",
        "    def __getitem__(self, index):\n",
        "        return self.pos_triplets[index], self.neg_triplets[index]\n",
        "    \n",
        "    def __len__(self):\n",
        "        return self.pos_triplets.shape[0]\n",
        "\n",
        "        "
      ],
      "execution_count": 0,
      "outputs": []
    },
    {
      "cell_type": "markdown",
      "metadata": {
        "id": "VR8q_F2QHKE-",
        "colab_type": "text"
      },
      "source": [
        "Это наша TransE модель. В ней мы создаем entity и relation ембеддинги и реализуем прямой проход.\n"
      ]
    },
    {
      "cell_type": "code",
      "metadata": {
        "id": "Ir7LbnyPE6__",
        "colab_type": "code",
        "colab": {}
      },
      "source": [
        "# Pytorch \n",
        "class TransE(nn.Module):\n",
        "    def __init__(self, dataset, vector_length=300):\n",
        "        super(TransE, self).__init__()\n",
        "        self.dataset = dataset\n",
        "        self.num_ent = self.dataset.num_ent\n",
        "        self.num_rel = self.dataset.num_rel\n",
        "        self.vector_length = vector_length\n",
        "        self.ent_emb = nn.Embedding(self.num_ent, self.vector_length)\n",
        "        self.rel_emb = nn.Embedding(self.num_rel, self.vector_length)\n",
        "        \n",
        "        \n",
        "    def forward(self, pos_triplet, neg_triplet):\n",
        "        # We put triplets on GPU\n",
        "        pos_triplet = pos_triplet.cuda()\n",
        "        neg_triplet = neg_triplet.cuda()\n",
        "\n",
        "        # Take embeddings which correspond to indexes in trilets  \n",
        "        pos_head_emb = self.ent_emb(pos_triplet[:, 0]).cuda()\n",
        "        pos_rel_emb = self.rel_emb(pos_triplet[:, 1]).cuda()\n",
        "        pos_tail_emb = self.ent_emb(pos_triplet[:, 2]).cuda()\n",
        "        \n",
        "        neg_head_emb = self.ent_emb(neg_triplet[:, 0]).cuda()\n",
        "        neg_rel_emb = self.rel_emb(neg_triplet[:, 1]).cuda()\n",
        "        neg_tail_emb = self.ent_emb(neg_triplet[:, 2]).cuda()\n",
        "        \n",
        "        # Calculate the score which is a L-2 norm \n",
        "        neg_score = torch.norm((neg_head_emb + neg_rel_emb - neg_tail_emb), 2, 1)\n",
        "        pos_score = torch.norm((pos_head_emb + pos_rel_emb - pos_tail_emb), 2, 1)\n",
        "\n",
        "        losses = torch.stack((pos_score, neg_score), dim=1)\n",
        "        \n",
        "        return losses   "
      ],
      "execution_count": 0,
      "outputs": []
    },
    {
      "cell_type": "code",
      "metadata": {
        "id": "LI5UCKZ_deTl",
        "colab_type": "code",
        "colab": {}
      },
      "source": [
        "class validation:\n",
        "    def __init__(self, file_path, ent_emb, rel_emb):\n",
        "        self.file_path = file_path \n",
        "        self.ent_emb = ent_emb\n",
        "        self.rel_emb = rel_emb\n",
        "        self.y_indices = None\n",
        "        self.prediction = None\n",
        "        self.similarity = None\n",
        "        self.y = None\n",
        "        self.mrr = None\n",
        "    def generate_prediction(self):\n",
        "        b = []\n",
        "        with open(self.file_path, 'r') as f:\n",
        "            data = f.readlines()\n",
        "            for el in data:\n",
        "                b.append([int(a) for a in el.split()])\n",
        "\n",
        "        b = np.array(b)\n",
        "\n",
        "        self.prediction = torch.stack([self.ent_emb[b[i, 0]] + self.rel_emb[b[i, 1]] for i in range(b.shape[0])], dim=0)\n",
        "        self.y = torch.stack([self.ent_emb[b[i, 2]] for i in range(b.shape[0])], dim=0)\n",
        "        self.y_indices = b[:, 2]\n",
        "\n",
        "    def generate_similarity(self):\n",
        "        n = self.y.shape[0]\n",
        "        m = self.ent_emb.shape[0]\n",
        "\n",
        "        dot_products = torch.matmul(self.prediction, self.ent_emb.t())\n",
        "\n",
        "        lengths_pred = torch.matmul(self.prediction, self.prediction.t())[range(n), range(n)]\n",
        "        lengths_pred = torch.sqrt(lengths_pred).view(-1, 1)\n",
        "\n",
        "        lengths_y = torch.matmul(self.ent_emb, self.ent_emb.t())[range(m), range(m)]\n",
        "        lengths_y = torch.sqrt(lengths_y).view(1, -1)\n",
        "        # print(dot_products.shape, lengths_pred.shape, lengths_y.shape)\n",
        "\n",
        "        self.similarity = dot_products / (lengths_pred * lengths_y)\n",
        "        ordered, indices = self.similarity.sort(dim=1, descending=True)\n",
        "        # print(ordered)\n",
        "\n",
        "        l = torch.stack([torch.nonzero(indices[i] == self.y_indices[i]) for i in range(self.y_indices.shape[0])], dim=0).view(-1).float() + 1\n",
        "        l = 1 / l\n",
        "        self.mrr = torch.mean(l)\n",
        "        # for i in range(self.y_indices.shape[0]):\n",
        "        #     print(self.y_indices[i])\n",
        "        #     print(torch.nonzero(indices[i, :] == self.y_indices[i]))"
      ],
      "execution_count": 0,
      "outputs": []
    },
    {
      "cell_type": "code",
      "metadata": {
        "id": "z9beODFiE7AC",
        "colab_type": "code",
        "colab": {}
      },
      "source": [
        "path = '/content/drive/My Drive/model_transE-master/wn18/train.txt'"
      ],
      "execution_count": 0,
      "outputs": []
    },
    {
      "cell_type": "code",
      "metadata": {
        "id": "DJR5qFIPE7AH",
        "colab_type": "code",
        "colab": {}
      },
      "source": [
        "a = WN18_train(path)\n",
        "a.download_triplets()\n",
        "a.generate_neg_triplets()"
      ],
      "execution_count": 0,
      "outputs": []
    },
    {
      "cell_type": "code",
      "metadata": {
        "id": "Qrkf09WwE7AK",
        "colab_type": "code",
        "colab": {}
      },
      "source": [
        "model = TransE(a).cuda()\n",
        "optimizer = torch.optim.Adam(model.parameters(), lr=0.001, weight_decay=0)\n",
        "train_loader = DataLoader(a, batch_size=128)"
      ],
      "execution_count": 0,
      "outputs": []
    },
    {
      "cell_type": "code",
      "metadata": {
        "id": "4z6HIsU-E7AN",
        "colab_type": "code",
        "colab": {}
      },
      "source": [
        "def train(model, dataset, train_loader, optimizer, num_epochs=30, val_every = 5):\n",
        "    loss = nn.MarginRankingLoss(10).cuda()\n",
        "    y = Variable(torch.Tensor([-1])).cuda()\n",
        "\n",
        "\n",
        "    for epoch in range(num_epochs):\n",
        "        model.train()\n",
        "        loss_accum = 0\n",
        "        \n",
        "        for i_step, (pos_triplet, neg_triplet) in enumerate(train_loader):\n",
        "            prediction = model(pos_triplet, neg_triplet)\n",
        "            loss_value = loss(prediction[:, 0], prediction[:, 1], y).cuda()\n",
        "            optimizer.zero_grad()\n",
        "            loss_value.backward()\n",
        "            optimizer.step()\n",
        "            \n",
        "            loss_accum += loss_value.item()\n",
        "            \n",
        "        average_loss = loss_accum / i_step\n",
        "        print(f'Epoch: {epoch}, loss: {average_loss}')"
      ],
      "execution_count": 0,
      "outputs": []
    },
    {
      "cell_type": "code",
      "metadata": {
        "id": "BdEwI6HpE7AP",
        "colab_type": "code",
        "outputId": "5728e1c4-ce5b-46e9-8cd9-57e835ab9b59",
        "colab": {
          "base_uri": "https://localhost:8080/",
          "height": 527
        }
      },
      "source": [
        "train(model, a, train_loader, optimizer)"
      ],
      "execution_count": 10,
      "outputs": [
        {
          "output_type": "stream",
          "text": [
            "Epoch: 0, loss: 9.836478008080391\n",
            "Epoch: 1, loss: 9.108848279202146\n",
            "Epoch: 2, loss: 8.369568346636328\n",
            "Epoch: 3, loss: 7.641586327013387\n",
            "Epoch: 4, loss: 6.94342778840216\n",
            "Epoch: 5, loss: 6.2830629525680886\n",
            "Epoch: 6, loss: 5.656841552095715\n",
            "Epoch: 7, loss: 5.063783960644476\n",
            "Epoch: 8, loss: 4.508205179715048\n",
            "Epoch: 9, loss: 3.99581297123594\n",
            "Epoch: 10, loss: 3.5318130982947027\n",
            "Epoch: 11, loss: 3.116481468580427\n",
            "Epoch: 12, loss: 2.746823254969325\n",
            "Epoch: 13, loss: 2.4176824335598837\n",
            "Epoch: 14, loss: 2.122920500530916\n",
            "Epoch: 15, loss: 1.858554276729601\n",
            "Epoch: 16, loss: 1.6210790348268742\n",
            "Epoch: 17, loss: 1.407965795756465\n",
            "Epoch: 18, loss: 1.2174789830030899\n",
            "Epoch: 19, loss: 1.0472899694787972\n",
            "Epoch: 20, loss: 0.8959284473058865\n",
            "Epoch: 21, loss: 0.7614150217485643\n",
            "Epoch: 22, loss: 0.6431649894466227\n",
            "Epoch: 23, loss: 0.5397054732924673\n",
            "Epoch: 24, loss: 0.44974854005947373\n",
            "Epoch: 25, loss: 0.3725598008654236\n",
            "Epoch: 26, loss: 0.306226808311443\n",
            "Epoch: 27, loss: 0.24970416463068706\n",
            "Epoch: 28, loss: 0.20235794746902733\n",
            "Epoch: 29, loss: 0.16238018785396852\n"
          ],
          "name": "stdout"
        }
      ]
    },
    {
      "cell_type": "code",
      "metadata": {
        "id": "7L66VP1E1_XN",
        "colab_type": "code",
        "colab": {}
      },
      "source": [
        "ent_emb, rel_emb = model.parameters()"
      ],
      "execution_count": 0,
      "outputs": []
    },
    {
      "cell_type": "code",
      "metadata": {
        "id": "rgoDdwE13SXD",
        "colab_type": "code",
        "colab": {}
      },
      "source": [
        "valid_path = '/content/drive/My Drive/model_transE-master/wn18/valid.txt'"
      ],
      "execution_count": 0,
      "outputs": []
    },
    {
      "cell_type": "code",
      "metadata": {
        "id": "Xi0_PD04cVv3",
        "colab_type": "code",
        "colab": {
          "base_uri": "https://localhost:8080/",
          "height": 34
        },
        "outputId": "d83318ac-f95b-434b-c340-831de19f3fd6"
      },
      "source": [
        "v = validation(valid_path, ent_emb, rel_emb)\n",
        "v.generate_prediction()\n",
        "v.generate_similarity()\n",
        "print(v.mrr)"
      ],
      "execution_count": 13,
      "outputs": [
        {
          "output_type": "stream",
          "text": [
            "tensor(0.1483, device='cuda:0')\n"
          ],
          "name": "stdout"
        }
      ]
    }
  ]
}